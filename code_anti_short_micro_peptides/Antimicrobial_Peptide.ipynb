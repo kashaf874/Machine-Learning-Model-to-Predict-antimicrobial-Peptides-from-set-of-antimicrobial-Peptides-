{
  "nbformat": 4,
  "nbformat_minor": 0,
  "metadata": {
    "colab": {
      "name": "Antimicrobial-Peptide-QSAR.ipynb",
      "provenance": []
    },
    "kernelspec": {
      "name": "python3",
      "display_name": "Python 3"
    },
    "language_info": {
      "name": "python"
    }
  },
  "cells": [
    {
      "cell_type": "markdown",
      "metadata": {
        "id": "jBcmSJDbi40t"
      },
      "source": [
        "#Predicting Activity of Short Antimicrobial Peptides"
      ]
    },
    {
      "cell_type": "markdown",
      "metadata": {
        "id": "-ELVE_GzjheN"
      },
      "source": [
        "## INSTALL CONDA ON GOOGLE COLAB\n"
      ]
    },
    {
      "cell_type": "code",
      "metadata": {
        "colab": {
          "base_uri": "https://localhost:8080/"
        },
        "id": "MVot4Aq7jcpD",
        "outputId": "7764845d-39ed-4e36-b83b-82061c66f592"
      },
      "source": [
        "! wget https://repo.anaconda.com/miniconda/Miniconda3-py37_4.8.2-Linux-x86_64.sh\n",
        "! chmod +x Miniconda3-py37_4.8.2-Linux-x86_64.sh\n",
        "! bash ./Miniconda3-py37_4.8.2-Linux-x86_64.sh -b -f -p /usr/local\n",
        "import sys\n",
        "sys.path.append('/usr/local/lib/python3.8.8/site-packages/')"
      ],
      "execution_count": 3,
      "outputs": [
        {
          "output_type": "stream",
          "text": [
            "--2021-08-28 16:19:23--  https://repo.anaconda.com/miniconda/Miniconda3-py37_4.8.2-Linux-x86_64.sh\n",
            "Resolving repo.anaconda.com (repo.anaconda.com)... 104.16.130.3, 104.16.131.3, 2606:4700::6810:8303, ...\n",
            "Connecting to repo.anaconda.com (repo.anaconda.com)|104.16.130.3|:443... connected.\n",
            "HTTP request sent, awaiting response... 200 OK\n",
            "Length: 85055499 (81M) [application/x-sh]\n",
            "Saving to: ‘Miniconda3-py37_4.8.2-Linux-x86_64.sh’\n",
            "\n",
            "Miniconda3-py37_4.8 100%[===================>]  81.12M   140MB/s    in 0.6s    \n",
            "\n",
            "2021-08-28 16:19:23 (140 MB/s) - ‘Miniconda3-py37_4.8.2-Linux-x86_64.sh’ saved [85055499/85055499]\n",
            "\n",
            "PREFIX=/usr/local\n",
            "Unpacking payload ...\n",
            "Collecting package metadata (current_repodata.json): - \b\b\\ \b\b| \b\bdone\n",
            "Solving environment: - \b\b\\ \b\bdone\n",
            "\n",
            "## Package Plan ##\n",
            "\n",
            "  environment location: /usr/local\n",
            "\n",
            "  added / updated specs:\n",
            "    - _libgcc_mutex==0.1=main\n",
            "    - asn1crypto==1.3.0=py37_0\n",
            "    - ca-certificates==2020.1.1=0\n",
            "    - certifi==2019.11.28=py37_0\n",
            "    - cffi==1.14.0=py37h2e261b9_0\n",
            "    - chardet==3.0.4=py37_1003\n",
            "    - conda-package-handling==1.6.0=py37h7b6447c_0\n",
            "    - conda==4.8.2=py37_0\n",
            "    - cryptography==2.8=py37h1ba5d50_0\n",
            "    - idna==2.8=py37_0\n",
            "    - ld_impl_linux-64==2.33.1=h53a641e_7\n",
            "    - libedit==3.1.20181209=hc058e9b_0\n",
            "    - libffi==3.2.1=hd88cf55_4\n",
            "    - libgcc-ng==9.1.0=hdf63c60_0\n",
            "    - libstdcxx-ng==9.1.0=hdf63c60_0\n",
            "    - ncurses==6.2=he6710b0_0\n",
            "    - openssl==1.1.1d=h7b6447c_4\n",
            "    - pip==20.0.2=py37_1\n",
            "    - pycosat==0.6.3=py37h7b6447c_0\n",
            "    - pycparser==2.19=py37_0\n",
            "    - pyopenssl==19.1.0=py37_0\n",
            "    - pysocks==1.7.1=py37_0\n",
            "    - python==3.7.6=h0371630_2\n",
            "    - readline==7.0=h7b6447c_5\n",
            "    - requests==2.22.0=py37_1\n",
            "    - ruamel_yaml==0.15.87=py37h7b6447c_0\n",
            "    - setuptools==45.2.0=py37_0\n",
            "    - six==1.14.0=py37_0\n",
            "    - sqlite==3.31.1=h7b6447c_0\n",
            "    - tk==8.6.8=hbc83047_0\n",
            "    - tqdm==4.42.1=py_0\n",
            "    - urllib3==1.25.8=py37_0\n",
            "    - wheel==0.34.2=py37_0\n",
            "    - xz==5.2.4=h14c3975_4\n",
            "    - yaml==0.1.7=had09818_2\n",
            "    - zlib==1.2.11=h7b6447c_3\n",
            "\n",
            "\n",
            "The following NEW packages will be INSTALLED:\n",
            "\n",
            "  _libgcc_mutex      pkgs/main/linux-64::_libgcc_mutex-0.1-main\n",
            "  asn1crypto         pkgs/main/linux-64::asn1crypto-1.3.0-py37_0\n",
            "  ca-certificates    pkgs/main/linux-64::ca-certificates-2020.1.1-0\n",
            "  certifi            pkgs/main/linux-64::certifi-2019.11.28-py37_0\n",
            "  cffi               pkgs/main/linux-64::cffi-1.14.0-py37h2e261b9_0\n",
            "  chardet            pkgs/main/linux-64::chardet-3.0.4-py37_1003\n",
            "  conda              pkgs/main/linux-64::conda-4.8.2-py37_0\n",
            "  conda-package-han~ pkgs/main/linux-64::conda-package-handling-1.6.0-py37h7b6447c_0\n",
            "  cryptography       pkgs/main/linux-64::cryptography-2.8-py37h1ba5d50_0\n",
            "  idna               pkgs/main/linux-64::idna-2.8-py37_0\n",
            "  ld_impl_linux-64   pkgs/main/linux-64::ld_impl_linux-64-2.33.1-h53a641e_7\n",
            "  libedit            pkgs/main/linux-64::libedit-3.1.20181209-hc058e9b_0\n",
            "  libffi             pkgs/main/linux-64::libffi-3.2.1-hd88cf55_4\n",
            "  libgcc-ng          pkgs/main/linux-64::libgcc-ng-9.1.0-hdf63c60_0\n",
            "  libstdcxx-ng       pkgs/main/linux-64::libstdcxx-ng-9.1.0-hdf63c60_0\n",
            "  ncurses            pkgs/main/linux-64::ncurses-6.2-he6710b0_0\n",
            "  openssl            pkgs/main/linux-64::openssl-1.1.1d-h7b6447c_4\n",
            "  pip                pkgs/main/linux-64::pip-20.0.2-py37_1\n",
            "  pycosat            pkgs/main/linux-64::pycosat-0.6.3-py37h7b6447c_0\n",
            "  pycparser          pkgs/main/linux-64::pycparser-2.19-py37_0\n",
            "  pyopenssl          pkgs/main/linux-64::pyopenssl-19.1.0-py37_0\n",
            "  pysocks            pkgs/main/linux-64::pysocks-1.7.1-py37_0\n",
            "  python             pkgs/main/linux-64::python-3.7.6-h0371630_2\n",
            "  readline           pkgs/main/linux-64::readline-7.0-h7b6447c_5\n",
            "  requests           pkgs/main/linux-64::requests-2.22.0-py37_1\n",
            "  ruamel_yaml        pkgs/main/linux-64::ruamel_yaml-0.15.87-py37h7b6447c_0\n",
            "  setuptools         pkgs/main/linux-64::setuptools-45.2.0-py37_0\n",
            "  six                pkgs/main/linux-64::six-1.14.0-py37_0\n",
            "  sqlite             pkgs/main/linux-64::sqlite-3.31.1-h7b6447c_0\n",
            "  tk                 pkgs/main/linux-64::tk-8.6.8-hbc83047_0\n",
            "  tqdm               pkgs/main/noarch::tqdm-4.42.1-py_0\n",
            "  urllib3            pkgs/main/linux-64::urllib3-1.25.8-py37_0\n",
            "  wheel              pkgs/main/linux-64::wheel-0.34.2-py37_0\n",
            "  xz                 pkgs/main/linux-64::xz-5.2.4-h14c3975_4\n",
            "  yaml               pkgs/main/linux-64::yaml-0.1.7-had09818_2\n",
            "  zlib               pkgs/main/linux-64::zlib-1.2.11-h7b6447c_3\n",
            "\n",
            "\n",
            "Preparing transaction: / \b\b- \b\b\\ \b\b| \b\bdone\n",
            "Executing transaction: - \b\b\\ \b\b| \b\b/ \b\b- \b\b\\ \b\b| \b\b/ \b\b- \b\b\\ \b\b| \b\b/ \b\b- \b\b\\ \b\b| \b\bdone\n",
            "installation finished.\n",
            "WARNING:\n",
            "    You currently have a PYTHONPATH environment variable set. This may cause\n",
            "    unexpected behavior when running the Python interpreter in Miniconda3.\n",
            "    For best results, please verify that your PYTHONPATH only points to\n",
            "    directories of packages that are compatible with the Python interpreter\n",
            "    in Miniconda3: /usr/local\n"
          ],
          "name": "stdout"
        }
      ]
    },
    {
      "cell_type": "markdown",
      "metadata": {
        "id": "-aMcrWQ9kOu-"
      },
      "source": [
        "# **Download and Install Pfeature**\n"
      ]
    },
    {
      "cell_type": "code",
      "metadata": {
        "colab": {
          "base_uri": "https://localhost:8080/"
        },
        "id": "1ododnxFkCDl",
        "outputId": "23139995-d05e-4b0f-ca81-b7d5ea6c997b"
      },
      "source": [
        "! wget https://github.com/raghavagps/Pfeature/raw/master/PyLib/Pfeature.zip"
      ],
      "execution_count": 4,
      "outputs": [
        {
          "output_type": "stream",
          "text": [
            "--2021-08-28 16:21:51--  https://github.com/raghavagps/Pfeature/raw/master/PyLib/Pfeature.zip\n",
            "Resolving github.com (github.com)... 140.82.112.3\n",
            "Connecting to github.com (github.com)|140.82.112.3|:443... connected.\n",
            "HTTP request sent, awaiting response... 302 Found\n",
            "Location: https://raw.githubusercontent.com/raghavagps/Pfeature/master/PyLib/Pfeature.zip [following]\n",
            "--2021-08-28 16:21:51--  https://raw.githubusercontent.com/raghavagps/Pfeature/master/PyLib/Pfeature.zip\n",
            "Resolving raw.githubusercontent.com (raw.githubusercontent.com)... 185.199.108.133, 185.199.109.133, 185.199.110.133, ...\n",
            "Connecting to raw.githubusercontent.com (raw.githubusercontent.com)|185.199.108.133|:443... connected.\n",
            "HTTP request sent, awaiting response... 200 OK\n",
            "Length: 511222 (499K) [application/zip]\n",
            "Saving to: ‘Pfeature.zip’\n",
            "\n",
            "Pfeature.zip        100%[===================>] 499.24K  --.-KB/s    in 0.04s   \n",
            "\n",
            "2021-08-28 16:21:52 (13.0 MB/s) - ‘Pfeature.zip’ saved [511222/511222]\n",
            "\n"
          ],
          "name": "stdout"
        }
      ]
    },
    {
      "cell_type": "code",
      "metadata": {
        "colab": {
          "base_uri": "https://localhost:8080/"
        },
        "id": "VVZ0xeeWkz-q",
        "outputId": "7242779d-a4ae-40b4-86f7-d2a99993a441"
      },
      "source": [
        "! unzip Pfeature.zip"
      ],
      "execution_count": 5,
      "outputs": [
        {
          "output_type": "stream",
          "text": [
            "Archive:  Pfeature.zip\n",
            "   creating: Pfeature/\n",
            "  inflating: __MACOSX/._Pfeature     \n",
            "  inflating: Pfeature/PKG-INFO       \n",
            "  inflating: __MACOSX/Pfeature/._PKG-INFO  \n",
            "  inflating: Pfeature/.DS_Store      \n",
            "  inflating: __MACOSX/Pfeature/._.DS_Store  \n",
            "  inflating: Pfeature/README         \n",
            "  inflating: __MACOSX/Pfeature/._README  \n",
            "  inflating: Pfeature/setup.py       \n",
            "  inflating: __MACOSX/Pfeature/._setup.py  \n",
            "  inflating: Pfeature/Functions_Tables.pdf  \n",
            "  inflating: __MACOSX/Pfeature/._Functions_Tables.pdf  \n",
            "   creating: Pfeature/build/\n",
            "  inflating: __MACOSX/Pfeature/._build  \n",
            "  inflating: Pfeature/Pfeature_Descriptors.pdf  \n",
            "  inflating: __MACOSX/Pfeature/._Pfeature_Descriptors.pdf  \n",
            "   creating: Pfeature/Pfeature/\n",
            "  inflating: __MACOSX/Pfeature/._Pfeature  \n",
            "   creating: Pfeature/build/lib/\n",
            "  inflating: __MACOSX/Pfeature/build/._lib  \n",
            "  inflating: Pfeature/Pfeature/bonds.csv  \n",
            "  inflating: Pfeature/Pfeature/pfeature.py  \n",
            "  inflating: Pfeature/Pfeature/AAIndexNames.csv  \n",
            "  inflating: Pfeature/Pfeature/aaindices.csv  \n",
            "  inflating: Pfeature/Pfeature/atom.csv  \n",
            "  inflating: Pfeature/Pfeature/PhysicoChemical.csv  \n",
            "  inflating: Pfeature/Pfeature/__init__.py  \n",
            "  inflating: __MACOSX/Pfeature/Pfeature/.___init__.py  \n",
            "  inflating: Pfeature/Pfeature/z_aaindex.csv  \n",
            "  inflating: Pfeature/Pfeature/aaindex.csv  \n",
            "  inflating: Pfeature/Pfeature/bin_di.csv  \n",
            "  inflating: Pfeature/Pfeature/Grantham.csv  \n",
            "  inflating: Pfeature/Pfeature/can_pat.csv  \n",
            "  inflating: Pfeature/Pfeature/aa_attr_group.csv  \n",
            "  inflating: Pfeature/Pfeature/Schneider-Wrede.csv  \n",
            "  inflating: Pfeature/Pfeature/data  \n",
            "  inflating: Pfeature/Pfeature/aaind.txt  \n",
            "   creating: Pfeature/build/lib/Pfeature/\n",
            "  inflating: Pfeature/build/lib/Pfeature/bonds.csv  \n",
            "  inflating: Pfeature/build/lib/Pfeature/pfeature.py  \n",
            "  inflating: Pfeature/build/lib/Pfeature/AAIndexNames.csv  \n",
            "  inflating: Pfeature/build/lib/Pfeature/aaindices.csv  \n",
            "  inflating: Pfeature/build/lib/Pfeature/atom.csv  \n",
            "  inflating: Pfeature/build/lib/Pfeature/PhysicoChemical.csv  \n",
            "  inflating: Pfeature/build/lib/Pfeature/__init__.py  \n",
            "  inflating: __MACOSX/Pfeature/build/lib/Pfeature/.___init__.py  \n",
            "  inflating: Pfeature/build/lib/Pfeature/z_aaindex.csv  \n",
            "  inflating: Pfeature/build/lib/Pfeature/aaindex.csv  \n",
            "  inflating: Pfeature/build/lib/Pfeature/bin_di.csv  \n",
            "  inflating: Pfeature/build/lib/Pfeature/Grantham.csv  \n",
            "  inflating: Pfeature/build/lib/Pfeature/can_pat.csv  \n",
            "  inflating: Pfeature/build/lib/Pfeature/aa_attr_group.csv  \n",
            "  inflating: Pfeature/build/lib/Pfeature/Schneider-Wrede.csv  \n",
            "  inflating: Pfeature/build/lib/Pfeature/data  \n",
            "  inflating: Pfeature/build/lib/Pfeature/aaind.txt  \n"
          ],
          "name": "stdout"
        }
      ]
    },
    {
      "cell_type": "code",
      "metadata": {
        "id": "QCwZbTKpk0r7"
      },
      "source": [
        ""
      ],
      "execution_count": null,
      "outputs": []
    }
  ]
}